{
 "cells": [
  {
   "cell_type": "code",
   "execution_count": 1,
   "metadata": {
    "dotnet_interactive": {
     "language": "csharp"
    },
    "polyglot_notebook": {
     "kernelName": "csharp"
    },
    "vscode": {
     "languageId": "polyglot-notebook"
    }
   },
   "outputs": [
    {
     "data": {
      "text/html": [
       "<div><div></div><div></div><div><strong>Installed Packages</strong><ul><li><span>Azure.AI.OpenAI, 1.0.0-beta.13</span></li></ul></div></div>"
      ]
     },
     "metadata": {},
     "output_type": "display_data"
    }
   ],
   "source": [
    "#r \"nuget: Azure.AI.OpenAI, 1.0.0-beta.13\""
   ]
  },
  {
   "cell_type": "code",
   "execution_count": 2,
   "metadata": {
    "dotnet_interactive": {
     "language": "csharp"
    },
    "polyglot_notebook": {
     "kernelName": "csharp"
    },
    "vscode": {
     "languageId": "polyglot-notebook"
    }
   },
   "outputs": [],
   "source": [
    "#!import ./../config/Settings.cs\n",
    "\n",
    "using System;\n",
    "using Azure;\n",
    "using Azure.AI.OpenAI;\n",
    "using System.Net.Http;\n",
    "using Newtonsoft.Json;\n",
    "\n",
    "// Configure AI backend used by the kernel\n",
    "var (useAzureOpenAI, model, azureEndpoint, apiKey, orgId) = Settings.LoadFromFile(\"./../config/settings.json\");\n",
    "\n",
    "string endpoint = azureEndpoint;\n",
    "string key = apiKey;\n",
    "model = \"gpt-4-vision\";"
   ]
  },
  {
   "cell_type": "code",
   "execution_count": 6,
   "metadata": {
    "dotnet_interactive": {
     "language": "csharp"
    },
    "polyglot_notebook": {
     "kernelName": "csharp"
    },
    "vscode": {
     "languageId": "polyglot-notebook"
    }
   },
   "outputs": [
    {
     "name": "stdout",
     "output_type": "stream",
     "text": [
      "The picture shows a beautiful natural landscape. It's a sunny day with a clear blue sky that has a few wispy clouds scattered throughout. A wooden boardwalk stretches straight ahead through a lush meadow of tall green grass. The grassland is vibrant and appears to be thriving, with a few clusters of shrubbery and trees in the distance. The boardwalk invites one to walk through the field and enjoy the serenity of the natural surroundings. The lighting suggests it could be late afternoon, with the sun casting a warm glow across the scene. Overall, it's a peaceful setting that conveys a sense of tranquility.\r\n"
     ]
    }
   ],
   "source": [
    "string GPT4V_KEY = key; // Set your key here\n",
    "\n",
    "// string QUESTION = \"Please describe the picture\";\n",
    "// string IMAGE_PATH = \"./Lavaredo.jpeg\"; // Set your image path here\n",
    "\n",
    "// string QUESTION = \"How many steps are needed to complete the entire process?\";\n",
    "// string IMAGE_PATH = \"./flow.png\"; // Set your image path here\n",
    "\n",
    "// string QUESTION = \"L'immagine rappresenta una fattura. Quali sono le voci principali della fattura?\";\n",
    "// string IMAGE_PATH = \"./fattura.jpg\"; // Set your image path here\n",
    "\n",
    "// string QUESTION = \"L'immagine rappresenta una fattura. Quali sono le voci principali della fattura?\";\n",
    "// string IMAGE_PATH = \"./fat_1.jpg\"; // Set your image path here\n",
    "\n",
    "string QUESTION = \"Please describe the picture\";\n",
    "string IMAGE_PATH = \"./landscape.jpg\"; // Set your image path here\n",
    "\n",
    "string GPT4V_ENDPOINT  = azureEndpoint + @\"/openai/deployments/\" + model + \"/chat/completions?api-version=2023-07-01-preview\";\n",
    "\n",
    "var encodedImage = Convert.ToBase64String(File.ReadAllBytes(IMAGE_PATH));\n",
    "using (var httpClient = new HttpClient())\n",
    "{\n",
    "    httpClient.DefaultRequestHeaders.Add(\"api-key\", GPT4V_KEY);\n",
    "    var payload = new\n",
    "    {\n",
    "        messages = new object[]\n",
    "        {\n",
    "            new {\n",
    "                role = \"system\",\n",
    "                content = new object[] {\n",
    "                    new {\n",
    "                        type = \"text\",\n",
    "                        text = \"You are an AI assistant that helps people find information.\"\n",
    "                    }\n",
    "                }\n",
    "            },\n",
    "            new {\n",
    "                role = \"user\",\n",
    "                content = new object[] {\n",
    "                    new {\n",
    "                        type = \"image_url\",\n",
    "                        image_url = new {\n",
    "                            url = $\"data:image/jpeg;base64,{encodedImage}\"\n",
    "                        }\n",
    "                    },\n",
    "                    new {\n",
    "                        type = \"text\",\n",
    "                        text = QUESTION\n",
    "                    }\n",
    "                }\n",
    "            }\n",
    "        },\n",
    "        temperature = 0.7,\n",
    "        top_p = 0.95,\n",
    "        max_tokens = 800,\n",
    "        stream = false\n",
    "    };\n",
    "\n",
    "    var response = await httpClient.PostAsync(GPT4V_ENDPOINT , new StringContent(JsonConvert.SerializeObject(payload), Encoding.UTF8, \"application/json\"));\n",
    "\n",
    "    if (response.IsSuccessStatusCode)\n",
    "    {\n",
    "        var responseData = JsonConvert.DeserializeObject<dynamic>(await response.Content.ReadAsStringAsync());\n",
    "        //Console.WriteLine(responseData);\n",
    "        Console.WriteLine(responseData.choices[0].message.content);\n",
    "    }\n",
    "    else\n",
    "    {\n",
    "        Console.WriteLine($\"Error: {response.StatusCode}, {response.ReasonPhrase}\");\n",
    "    }\n",
    "}"
   ]
  },
  {
   "cell_type": "code",
   "execution_count": 7,
   "metadata": {
    "dotnet_interactive": {
     "language": "csharp"
    },
    "polyglot_notebook": {
     "kernelName": "csharp"
    },
    "vscode": {
     "languageId": "polyglot-notebook"
    }
   },
   "outputs": [
    {
     "ename": "Error",
     "evalue": "System.UriFormatException: Invalid URI: The Uri string is too long.\r\n   at System.Uri.CreateThis(String uri, Boolean dontEscape, UriKind uriKind, UriCreationOptions& creationOptions)\r\n   at System.Uri..ctor(String uriString)\r\n   at Submission#8.<<Initialize>>d__0.MoveNext()\r\n--- End of stack trace from previous location ---\r\n   at Microsoft.CodeAnalysis.Scripting.ScriptExecutionState.RunSubmissionsAsync[TResult](ImmutableArray`1 precedingExecutors, Func`2 currentExecutor, StrongBox`1 exceptionHolderOpt, Func`2 catchExceptionOpt, CancellationToken cancellationToken)",
     "output_type": "error",
     "traceback": [
      "System.UriFormatException: Invalid URI: The Uri string is too long.\r\n",
      "   at System.Uri.CreateThis(String uri, Boolean dontEscape, UriKind uriKind, UriCreationOptions& creationOptions)\r\n",
      "   at System.Uri..ctor(String uriString)\r\n",
      "   at Submission#8.<<Initialize>>d__0.MoveNext()\r\n",
      "--- End of stack trace from previous location ---\r\n",
      "   at Microsoft.CodeAnalysis.Scripting.ScriptExecutionState.RunSubmissionsAsync[TResult](ImmutableArray`1 precedingExecutors, Func`2 currentExecutor, StrongBox`1 exceptionHolderOpt, Func`2 catchExceptionOpt, CancellationToken cancellationToken)"
     ]
    }
   ],
   "source": [
    "// const string rawImageUri = \"https://upload.wikimedia.org/wikipedia/commons/8/8c/Drei_Zinnen-Tre_Cime_Di_Lavaredo_6.JPG\";\n",
    "\n",
    "var encodedImage = Convert.ToBase64String(File.ReadAllBytes(IMAGE_PATH));\n",
    "string rawImageUri = $\"data:image/jpg;base64,{encodedImage}\";\n",
    "\n",
    "OpenAIClient client = new(new Uri(endpoint), new AzureKeyCredential(key));\n",
    "\n",
    "ChatCompletionsOptions chatCompletionsOptions = new()\n",
    "{\n",
    "    DeploymentName = model,\n",
    "    MaxTokens = 800,\n",
    "    Messages =\n",
    "    {\n",
    "        new ChatRequestSystemMessage(\"You are a helpful assistant that describes images.\"),\n",
    "        new ChatRequestUserMessage(\n",
    "            new ChatMessageTextContentItem(\"Hi! Please describe this image\"),\n",
    "            new ChatMessageImageContentItem(new Uri(rawImageUri)))\n",
    "    }\n",
    "};\n",
    "\n",
    "Response<ChatCompletions> chatResponse = await client.GetChatCompletionsAsync(chatCompletionsOptions);\n",
    "ChatChoice choice = chatResponse.Value.Choices[0];\n",
    "if (choice.FinishDetails is StopFinishDetails stopDetails)\n",
    "{\n",
    "    Console.WriteLine($\"{choice.Message.Role}: {choice.Message.Content}\");\n",
    "}"
   ]
  },
  {
   "cell_type": "code",
   "execution_count": 6,
   "metadata": {
    "dotnet_interactive": {
     "language": "csharp"
    },
    "polyglot_notebook": {
     "kernelName": "csharp"
    },
    "vscode": {
     "languageId": "polyglot-notebook"
    }
   },
   "outputs": [
    {
     "data": {
      "text/html": [
       "<details open=\"open\" class=\"dni-treeview\"><summary><span class=\"dni-code-hint\"><code>Azure.AI.OpenAI.ChatChoice</code></span></summary><div><table><thead><tr></tr></thead><tbody><tr><td>Message</td><td><details class=\"dni-treeview\"><summary><span class=\"dni-code-hint\"><code>Azure.AI.OpenAI.ChatResponseMessage</code></span></summary><div><table><thead><tr></tr></thead><tbody><tr><td>Role</td><td><details class=\"dni-treeview\"><summary><span class=\"dni-code-hint\"><code>assistant</code></span></summary><div><table><thead><tr></tr></thead><tbody></tbody></table></div></details></td></tr><tr><td>Content</td><td><div class=\"dni-plaintext\"><pre>The image shows the impressive natural rock formations known as the Tre Cime di Lav</pre></div></td></tr><tr><td>ToolCalls</td><td><details class=\"dni-treeview\"><summary><span class=\"dni-code-hint\"><code>[  ]</code></span></summary><div><table><thead><tr></tr></thead><tbody><tr><td>IsUndefined</td><td><div class=\"dni-plaintext\"><pre>True</pre></div></td></tr><tr><td>Count</td><td><div class=\"dni-plaintext\"><pre>0</pre></div></td></tr><tr><td>IsReadOnly</td><td><div class=\"dni-plaintext\"><pre>False</pre></div></td></tr><tr><td><i>(values)</i></td><td><i>(empty)</i></td></tr></tbody></table></div></details></td></tr><tr><td>FunctionCall</td><td><div class=\"dni-plaintext\"><pre>&lt;null&gt;</pre></div></td></tr><tr><td>AzureExtensionsContext</td><td><div class=\"dni-plaintext\"><pre>&lt;null&gt;</pre></div></td></tr></tbody></table></div></details></td></tr><tr><td>Index</td><td><div class=\"dni-plaintext\"><pre>0</pre></div></td></tr><tr><td>FinishReason</td><td><div class=\"dni-plaintext\"><pre>&lt;null&gt;</pre></div></td></tr><tr><td>FinishDetails</td><td><details class=\"dni-treeview\"><summary><span class=\"dni-code-hint\"><code>Azure.AI.OpenAI.MaxTokensFinishDetails</code></span></summary><div><table><thead><tr></tr></thead><tbody></tbody></table></div></details></td></tr><tr><td>ContentFilterResults</td><td><details class=\"dni-treeview\"><summary><span class=\"dni-code-hint\"><code>Azure.AI.OpenAI.ContentFilterResultsForChoice</code></span></summary><div><table><thead><tr></tr></thead><tbody><tr><td>Sexual</td><td><details class=\"dni-treeview\"><summary><span class=\"dni-code-hint\"><code>Azure.AI.OpenAI.ContentFilterResult</code></span></summary><div><table><thead><tr></tr></thead><tbody><tr><td>Severity</td><td><details class=\"dni-treeview\"><summary><span class=\"dni-code-hint\"><code>safe</code></span></summary><div><table><thead><tr></tr></thead><tbody></tbody></table></div></details></td></tr><tr><td>Filtered</td><td><div class=\"dni-plaintext\"><pre>False</pre></div></td></tr></tbody></table></div></details></td></tr><tr><td>Violence</td><td><details class=\"dni-treeview\"><summary><span class=\"dni-code-hint\"><code>Azure.AI.OpenAI.ContentFilterResult</code></span></summary><div><table><thead><tr></tr></thead><tbody><tr><td>Severity</td><td><details class=\"dni-treeview\"><summary><span class=\"dni-code-hint\"><code>safe</code></span></summary><div><table><thead><tr></tr></thead><tbody></tbody></table></div></details></td></tr><tr><td>Filtered</td><td><div class=\"dni-plaintext\"><pre>False</pre></div></td></tr></tbody></table></div></details></td></tr><tr><td>Hate</td><td><details class=\"dni-treeview\"><summary><span class=\"dni-code-hint\"><code>Azure.AI.OpenAI.ContentFilterResult</code></span></summary><div><table><thead><tr></tr></thead><tbody><tr><td>Severity</td><td><details class=\"dni-treeview\"><summary><span class=\"dni-code-hint\"><code>safe</code></span></summary><div><table><thead><tr></tr></thead><tbody></tbody></table></div></details></td></tr><tr><td>Filtered</td><td><div class=\"dni-plaintext\"><pre>False</pre></div></td></tr></tbody></table></div></details></td></tr><tr><td>SelfHarm</td><td><details class=\"dni-treeview\"><summary><span class=\"dni-code-hint\"><code>Azure.AI.OpenAI.ContentFilterResult</code></span></summary><div><table><thead><tr></tr></thead><tbody><tr><td>Severity</td><td><details class=\"dni-treeview\"><summary><span class=\"dni-code-hint\"><code>safe</code></span></summary><div><table><thead><tr></tr></thead><tbody></tbody></table></div></details></td></tr><tr><td>Filtered</td><td><div class=\"dni-plaintext\"><pre>False</pre></div></td></tr></tbody></table></div></details></td></tr><tr><td>Profanity</td><td><div class=\"dni-plaintext\"><pre>&lt;null&gt;</pre></div></td></tr><tr><td>CustomBlocklists</td><td><details class=\"dni-treeview\"><summary><span class=\"dni-code-hint\"><code>[  ]</code></span></summary><div><table><thead><tr></tr></thead><tbody><tr><td>IsUndefined</td><td><div class=\"dni-plaintext\"><pre>True</pre></div></td></tr><tr><td>Count</td><td><div class=\"dni-plaintext\"><pre>0</pre></div></td></tr><tr><td>IsReadOnly</td><td><div class=\"dni-plaintext\"><pre>False</pre></div></td></tr><tr><td><i>(values)</i></td><td><i>(empty)</i></td></tr></tbody></table></div></details></td></tr><tr><td>Error</td><td><div class=\"dni-plaintext\"><pre>&lt;null&gt;</pre></div></td></tr><tr><td>ProtectedMaterialText</td><td><div class=\"dni-plaintext\"><pre>&lt;null&gt;</pre></div></td></tr><tr><td>ProtectedMaterialCode</td><td><div class=\"dni-plaintext\"><pre>&lt;null&gt;</pre></div></td></tr></tbody></table></div></details></td></tr><tr><td>Enhancements</td><td><div class=\"dni-plaintext\"><pre>&lt;null&gt;</pre></div></td></tr></tbody></table></div></details><style>\r\n",
       ".dni-code-hint {\r\n",
       "    font-style: italic;\r\n",
       "    overflow: hidden;\r\n",
       "    white-space: nowrap;\r\n",
       "}\r\n",
       ".dni-treeview {\r\n",
       "    white-space: nowrap;\r\n",
       "}\r\n",
       ".dni-treeview td {\r\n",
       "    vertical-align: top;\r\n",
       "    text-align: start;\r\n",
       "}\r\n",
       "details.dni-treeview {\r\n",
       "    padding-left: 1em;\r\n",
       "}\r\n",
       "table td {\r\n",
       "    text-align: start;\r\n",
       "}\r\n",
       "table tr { \r\n",
       "    vertical-align: top; \r\n",
       "    margin: 0em 0px;\r\n",
       "}\r\n",
       "table tr td pre \r\n",
       "{ \r\n",
       "    vertical-align: top !important; \r\n",
       "    margin: 0em 0px !important;\r\n",
       "} \r\n",
       "table th {\r\n",
       "    text-align: start;\r\n",
       "}\r\n",
       "</style>"
      ]
     },
     "metadata": {},
     "output_type": "display_data"
    }
   ],
   "source": [
    "choice"
   ]
  },
  {
   "cell_type": "code",
   "execution_count": null,
   "metadata": {
    "dotnet_interactive": {
     "language": "csharp"
    },
    "polyglot_notebook": {
     "kernelName": "csharp"
    },
    "vscode": {
     "languageId": "polyglot-notebook"
    }
   },
   "outputs": [],
   "source": []
  }
 ],
 "metadata": {
  "language_info": {
   "name": "python"
  }
 },
 "nbformat": 4,
 "nbformat_minor": 2
}
