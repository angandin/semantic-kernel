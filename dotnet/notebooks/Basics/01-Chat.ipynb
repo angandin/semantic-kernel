{
 "cells": [
  {
   "cell_type": "code",
   "execution_count": null,
   "metadata": {
    "dotnet_interactive": {
     "language": "csharp"
    },
    "polyglot_notebook": {
     "kernelName": "csharp"
    },
    "vscode": {
     "languageId": "polyglot-notebook"
    }
   },
   "outputs": [],
   "source": [
    "#r \"nuget: Azure.AI.OpenAI, 1.0.0-beta.12\""
   ]
  },
  {
   "cell_type": "code",
   "execution_count": null,
   "metadata": {
    "dotnet_interactive": {
     "language": "csharp"
    },
    "polyglot_notebook": {
     "kernelName": "csharp"
    },
    "vscode": {
     "languageId": "polyglot-notebook"
    }
   },
   "outputs": [],
   "source": [
    "#!import ./../config/Settings.cs\n",
    "\n",
    "using System;\n",
    "using Azure;\n",
    "using Azure.AI.OpenAI;\n",
    "\n",
    "// Configure AI backend used by the kernel\n",
    "var (useAzureOpenAI, model, azureEndpoint, apiKey, orgId) = Settings.LoadFromFile(\"./../config/settings.json\");\n",
    "\n",
    "string endpoint = azureEndpoint;\n",
    "string key = apiKey;"
   ]
  },
  {
   "cell_type": "code",
   "execution_count": null,
   "metadata": {
    "dotnet_interactive": {
     "language": "csharp"
    },
    "polyglot_notebook": {
     "kernelName": "csharp"
    },
    "vscode": {
     "languageId": "polyglot-notebook"
    }
   },
   "outputs": [],
   "source": [
    "OpenAIClient client = new(new Uri(endpoint), new AzureKeyCredential(key));\n",
    "\n",
    "var chatCompletionsOptions = new ChatCompletionsOptions()\n",
    "{\n",
    "    DeploymentName = model, //This must match the custom deployment name you chose for your model\n",
    "    Messages =\n",
    "    {\n",
    "        new ChatRequestSystemMessage(\"You are a helpful assistant.\"),\n",
    "        new ChatRequestUserMessage(\"Does Azure OpenAI support customer managed keys?\"),\n",
    "        new ChatRequestAssistantMessage(\"Yes, customer managed keys are supported by Azure OpenAI.\"),\n",
    "        new ChatRequestUserMessage(\"Do other Azure AI services support this tool?\"),\n",
    "    },\n",
    "    MaxTokens = 100\n",
    "};\n",
    "\n",
    "Response<ChatCompletions> response = client.GetChatCompletions(chatCompletionsOptions);\n",
    "\n",
    "Console.WriteLine(response.Value.Choices[0].Message.Content);\n",
    "\n",
    "Console.WriteLine();"
   ]
  },
  {
   "cell_type": "markdown",
   "metadata": {},
   "source": [
    "Streaming"
   ]
  },
  {
   "cell_type": "code",
   "execution_count": null,
   "metadata": {
    "dotnet_interactive": {
     "language": "csharp"
    },
    "polyglot_notebook": {
     "kernelName": "csharp"
    },
    "vscode": {
     "languageId": "polyglot-notebook"
    }
   },
   "outputs": [],
   "source": [
    "await foreach (StreamingChatCompletionsUpdate chatUpdate in client.GetChatCompletionsStreaming(chatCompletionsOptions))\n",
    "{\n",
    "    if (chatUpdate.Role.HasValue)\n",
    "    {\n",
    "        Console.Write($\"{chatUpdate.Role.Value.ToString().ToUpperInvariant()}: \");\n",
    "    }\n",
    "    if (!string.IsNullOrEmpty(chatUpdate.ContentUpdate))\n",
    "    {\n",
    "        Console.Write(chatUpdate.ContentUpdate);\n",
    "    }\n",
    "}"
   ]
  }
 ],
 "metadata": {
  "language_info": {
   "name": "python"
  }
 },
 "nbformat": 4,
 "nbformat_minor": 2
}
